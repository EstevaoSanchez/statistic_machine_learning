{
  "cells": [
    {
      "cell_type": "code",
      "source": [
        "# Modelo KNN passo a passo (sem a utilização de nenhuma biblioteca) para fazer a previsão do diagnóstico de fertilidade, \n",
        "# usando como base para treinamento o dataframe fertility_Diagnosis.txt"
      ],
      "metadata": {
        "id": "hFEtLUN1efS7"
      },
      "execution_count": null,
      "outputs": []
    },
    {
      "cell_type": "code",
      "source": [
        "# Abrindo o arquivo e realizando o tratamento de cada linha para subistituir as strings por números \n",
        "# e deixa-las no formato float(decimal)"
      ],
      "metadata": {
        "id": "SB-4otrVceSF"
      },
      "execution_count": 18,
      "outputs": []
    },
    {
      "cell_type": "code",
      "execution_count": 5,
      "metadata": {
        "id": "5-lALupKa8F1"
      },
      "outputs": [],
      "source": [
        "amostras = []\n",
        "\n",
        "with open(\"fertility_Diagnosis.txt\", \"r\") as dataset:\n",
        "    for instancia in dataset.readlines():\n",
        "        x = instancia.replace('\\n', '').replace('N', '1').replace('O','0').split(',')\n",
        "        amostras.append(\n",
        "                [\n",
        "                    float(x[0]),\n",
        "                    float(x[1]),\n",
        "                    float(x[2]),\n",
        "                    float(x[3]),\n",
        "                    float(x[4]),\n",
        "                    float(x[5]),\n",
        "                    float(x[6]),\n",
        "                    float(x[7]),\n",
        "                    float(x[8]),\n",
        "                    float(x[9])\n",
        "                ]\n",
        "        )"
      ]
    },
    {
      "cell_type": "code",
      "source": [
        "# Verificando a quantidade de cada classe da nossa coluna target (classe normal, classe alterada)"
      ],
      "metadata": {
        "id": "bZY4lEdKcygC"
      },
      "execution_count": null,
      "outputs": []
    },
    {
      "cell_type": "code",
      "execution_count": 6,
      "metadata": {
        "id": "VIPYkqVVa8F3"
      },
      "outputs": [],
      "source": [
        "def info_dataset(tabela, imprimir=False):\n",
        "    classe_normal = 0\n",
        "    classe_alterada = 0\n",
        "    \n",
        "    for linha in tabela:\n",
        "        if linha[-1] == 1:\n",
        "            classe_normal += 1\n",
        "        else:\n",
        "            classe_alterada += 1\n",
        "    if imprimir == True:\n",
        "        print(\"Qtd classe Normal: \", classe_normal)\n",
        "        print(\"Qtd classe Alterada: \", classe_alterada)\n",
        "        print(\"Quantidade de amostras: \",len(tabela))\n",
        "    \n",
        "    return [classe_normal, classe_alterada, len(tabela)]"
      ]
    },
    {
      "cell_type": "code",
      "execution_count": 7,
      "metadata": {
        "colab": {
          "base_uri": "https://localhost:8080/"
        },
        "id": "_IdD6_4Ea8F3",
        "outputId": "75b9bb04-320b-4828-99ec-4e7ad2916d11"
      },
      "outputs": [
        {
          "output_type": "stream",
          "name": "stdout",
          "text": [
            "Qtd classe Normal:  88\n",
            "Qtd classe Alterada:  12\n",
            "Quantidade de amostras:  100\n"
          ]
        },
        {
          "output_type": "execute_result",
          "data": {
            "text/plain": [
              "[88, 12, 100]"
            ]
          },
          "metadata": {},
          "execution_count": 7
        }
      ],
      "source": [
        "info_dataset(amostras, True)"
      ]
    },
    {
      "cell_type": "code",
      "source": [
        "# Determinando porcentagem de treino e teste"
      ],
      "metadata": {
        "id": "i6Ynyb32jF-q"
      },
      "execution_count": null,
      "outputs": []
    },
    {
      "cell_type": "code",
      "execution_count": 8,
      "metadata": {
        "id": "keIvzZ63a8F4"
      },
      "outputs": [],
      "source": [
        "porcentagem = 0.5"
      ]
    },
    {
      "cell_type": "code",
      "execution_count": 9,
      "metadata": {
        "id": "QmSSkzuda8F4"
      },
      "outputs": [],
      "source": [
        "normal, alterado, _ = info_dataset(amostras)\n",
        "treinamento = []\n",
        "teste = []\n",
        "\n",
        "max_normal = int(porcentagem*normal)#44\n",
        "max_alterado = int(porcentagem*alterado)#6\n",
        "\n",
        "total_normal = 0\n",
        "total_alterado = 0"
      ]
    },
    {
      "cell_type": "code",
      "source": [
        "# Função para separar as listas de treino e teste"
      ],
      "metadata": {
        "id": "bsz6HrAyjfR4"
      },
      "execution_count": 19,
      "outputs": []
    },
    {
      "cell_type": "code",
      "execution_count": 10,
      "metadata": {
        "id": "6xCgjCD1a8F5"
      },
      "outputs": [],
      "source": [
        "for amostrinha in amostras:\n",
        "    if (total_normal + total_alterado) < (max_normal + max_alterado):\n",
        "        #ainda é possível inserir amostras no treinamento\n",
        "        treinamento.append(amostrinha)\n",
        "        if amostrinha[-1] == 1 and total_normal < max_normal:\n",
        "            total_normal += 1\n",
        "        else:\n",
        "            total_alterado += 1\n",
        "    \n",
        "    else:\n",
        "        #senão, já pegamos as 50 amostras que queríamos\n",
        "        teste.append(amostrinha)\n",
        "    \n",
        "    \n",
        "    \n",
        "    \n",
        "    "
      ]
    },
    {
      "cell_type": "code",
      "execution_count": 11,
      "metadata": {
        "scrolled": true,
        "colab": {
          "base_uri": "https://localhost:8080/"
        },
        "id": "c5JjfcZha8F6",
        "outputId": "4b5e3e6b-6a05-4f8c-ad81-2c4f2417b95f"
      },
      "outputs": [
        {
          "output_type": "stream",
          "name": "stdout",
          "text": [
            "[3, 2, 1]\n"
          ]
        }
      ],
      "source": [
        "dicionario = {\n",
        "    0: 0.90,\n",
        "    1: 0.80,\n",
        "    2: 0.70,\n",
        "    3: 0.40,\n",
        "    4: 9.00    \n",
        "}\n",
        "\n",
        "lista = sorted(dicionario, key=dicionario.get)[0:3]\n",
        "print(lista)"
      ]
    },
    {
      "cell_type": "code",
      "execution_count": 12,
      "metadata": {
        "id": "Q8oppl9Wa8F6"
      },
      "outputs": [],
      "source": [
        "lista2 = []\n",
        "for i in lista:\n",
        "    lista2.append(dicionario[i])"
      ]
    },
    {
      "cell_type": "code",
      "execution_count": 13,
      "metadata": {
        "scrolled": true,
        "colab": {
          "base_uri": "https://localhost:8080/"
        },
        "id": "eboFLpB-a8F6",
        "outputId": "0bfcec92-66dd-4f40-a606-2259562a871c"
      },
      "outputs": [
        {
          "output_type": "execute_result",
          "data": {
            "text/plain": [
              "[0.4, 0.7, 0.8]"
            ]
          },
          "metadata": {},
          "execution_count": 13
        }
      ],
      "source": [
        "lista2"
      ]
    },
    {
      "cell_type": "code",
      "source": [
        "# Calculando a distância entre os pontos, e realizando o treinamento do modelo"
      ],
      "metadata": {
        "id": "KK77Gh5Kj8Do"
      },
      "execution_count": 20,
      "outputs": []
    },
    {
      "cell_type": "code",
      "execution_count": 14,
      "metadata": {
        "id": "1bLaJtLca8F7"
      },
      "outputs": [],
      "source": [
        "def calcula_dist(amostra1, amostra2):\n",
        "    dimensao = len(amostra1)\n",
        "    soma = 0\n",
        "    for i in range(dimensao):\n",
        "        soma += (amostra1[i] - amostra2[i])**2\n",
        "    return soma**(1/2)\n",
        "\n",
        "def knn(treinamento, nova_amostra, k):\n",
        "    distancias = {}\n",
        "    tamanho_treino = len(treinamento)#50 amostras\n",
        "    \n",
        "    #calcula a distância euclidiada da nova_amostra para\n",
        "    # todas as amostras do treinamento e guarda em um\n",
        "    #dicionário\n",
        "    for i in range(tamanho_treino):\n",
        "        dist = calcula_dist(treinamento[i], nova_amostra)\n",
        "        distancias[i] = dist\n",
        "    \n",
        "    k_vizinhos =  sorted(distancias, key=distancias.get)[0:k]\n",
        "    #votação majoritária\n",
        "    qtd_classe_normal = 0\n",
        "    qtd_classe_alterado = 0\n",
        "    for indice in k_vizinhos:\n",
        "        if treinamento[indice][-1] == 1: \n",
        "            qtd_classe_normal += 1\n",
        "        else:\n",
        "            qtd_classe_alterado += 1\n",
        "    if qtd_classe_normal > qtd_classe_alterado:\n",
        "        return 1 #classe normal\n",
        "    return 0 #classe alterado"
      ]
    },
    {
      "cell_type": "code",
      "source": [
        "# Verifcando se a função retorna a classe"
      ],
      "metadata": {
        "id": "pGKqwVzzkJh4"
      },
      "execution_count": null,
      "outputs": []
    },
    {
      "cell_type": "code",
      "execution_count": 15,
      "metadata": {
        "colab": {
          "base_uri": "https://localhost:8080/"
        },
        "id": "POyPXtRDa8F7",
        "outputId": "599987cd-2c33-4095-c9f9-9ebf6c447532"
      },
      "outputs": [
        {
          "output_type": "execute_result",
          "data": {
            "text/plain": [
              "1"
            ]
          },
          "metadata": {},
          "execution_count": 15
        }
      ],
      "source": [
        "knn(treinamento, teste[20], 9)"
      ]
    },
    {
      "cell_type": "code",
      "source": [
        "# Visualizando a lista separada para teste"
      ],
      "metadata": {
        "id": "Zh6BeR0MlWTg"
      },
      "execution_count": null,
      "outputs": []
    },
    {
      "cell_type": "code",
      "execution_count": 16,
      "metadata": {
        "colab": {
          "base_uri": "https://localhost:8080/"
        },
        "id": "-IPScYIpa8F7",
        "outputId": "0669fd6f-65e1-4517-8f42-db149e469065"
      },
      "outputs": [
        {
          "output_type": "execute_result",
          "data": {
            "text/plain": [
              "[[-0.33, 0.67, 1.0, 0.0, 1.0, 0.0, 0.8, -1.0, 0.19, 1.0],\n",
              " [-0.33, 0.53, 1.0, 1.0, 0.0, 1.0, 1.0, -1.0, 0.75, 1.0],\n",
              " [-0.33, 0.53, 1.0, 1.0, 0.0, 0.0, 0.8, 0.0, 0.5, 1.0],\n",
              " [-0.33, 0.58, 1.0, 1.0, 1.0, -1.0, 0.8, 0.0, 0.19, 1.0],\n",
              " [-0.33, 0.61, 1.0, 0.0, 1.0, 0.0, 1.0, -1.0, 0.63, 1.0],\n",
              " [-0.33, 0.58, 1.0, 0.0, 1.0, 0.0, 0.8, 1.0, 0.19, 1.0],\n",
              " [-0.33, 0.53, 1.0, 1.0, 0.0, 0.0, 0.8, 0.0, 0.75, 1.0],\n",
              " [-0.33, 0.69, 1.0, 1.0, 1.0, -1.0, 1.0, -1.0, 0.75, 1.0],\n",
              " [-0.33, 0.56, 1.0, 1.0, 0.0, 0.0, 0.4, 1.0, 0.63, 1.0],\n",
              " [1.0, 0.58, 0.0, 0.0, 0.0, 1.0, 0.8, 1.0, 0.44, 1.0],\n",
              " [1.0, 0.56, 0.0, 0.0, 0.0, 1.0, 0.8, 0.0, 1.0, 1.0],\n",
              " [-1.0, 0.64, 1.0, 0.0, 0.0, 1.0, 1.0, 1.0, 0.25, 1.0],\n",
              " [-1.0, 0.61, 1.0, 1.0, 1.0, 0.0, 0.6, -1.0, 0.38, 1.0],\n",
              " [-1.0, 0.56, 1.0, 0.0, 0.0, 1.0, 1.0, -1.0, 0.5, 1.0],\n",
              " [-1.0, 0.53, 1.0, 0.0, 0.0, 1.0, 0.8, -1.0, 0.31, 1.0],\n",
              " [-0.33, 0.56, 0.0, 0.0, 1.0, 0.0, 1.0, -1.0, 0.56, 1.0],\n",
              " [-0.33, 0.5, 1.0, 1.0, 0.0, -1.0, 0.8, 0.0, 0.88, 1.0],\n",
              " [-0.33, 0.5, 1.0, 0.0, 0.0, 1.0, 1.0, -1.0, 0.47, 1.0],\n",
              " [-0.33, 0.5, 1.0, 0.0, 0.0, 1.0, 0.8, 0.0, 0.31, 1.0],\n",
              " [-0.33, 0.5, 1.0, 0.0, 1.0, -1.0, 0.8, -1.0, 0.5, 1.0],\n",
              " [-0.33, 0.5, 1.0, 1.0, 0.0, -1.0, 0.8, 0.0, 0.88, 0.0],\n",
              " [0.33, 0.69, 1.0, 0.0, 0.0, 1.0, 1.0, -1.0, 0.31, 1.0],\n",
              " [1.0, 0.56, 1.0, 0.0, 0.0, 1.0, 0.6, 0.0, 0.5, 1.0],\n",
              " [-1.0, 0.5, 1.0, 0.0, 0.0, 1.0, 0.8, -1.0, 0.44, 1.0],\n",
              " [-1.0, 0.53, 1.0, 0.0, 0.0, 1.0, 0.8, -1.0, 0.63, 1.0],\n",
              " [-1.0, 0.78, 1.0, 0.0, 1.0, 1.0, 1.0, 1.0, 0.25, 1.0],\n",
              " [-1.0, 0.75, 1.0, 0.0, 1.0, 1.0, 0.6, 0.0, 0.56, 1.0],\n",
              " [-1.0, 0.72, 1.0, 1.0, 1.0, 1.0, 0.8, -1.0, 0.19, 1.0],\n",
              " [-1.0, 0.53, 1.0, 1.0, 0.0, 1.0, 0.8, -1.0, 0.38, 1.0],\n",
              " [-1.0, 1.0, 1.0, 0.0, 1.0, 1.0, 0.6, 0.0, 0.25, 1.0],\n",
              " [-0.33, 0.92, 1.0, 1.0, 0.0, 1.0, 1.0, -1.0, 0.63, 1.0],\n",
              " [-1.0, 0.81, 1.0, 1.0, 1.0, 1.0, 0.8, 0.0, 0.19, 1.0],\n",
              " [-0.33, 0.92, 1.0, 0.0, 0.0, 1.0, 0.6, -1.0, 0.19, 1.0],\n",
              " [-0.33, 0.86, 1.0, 1.0, 1.0, 1.0, 1.0, -1.0, 0.25, 1.0],\n",
              " [-0.33, 0.78, 1.0, 0.0, 0.0, 1.0, 1.0, 1.0, 0.06, 0.0],\n",
              " [-0.33, 0.89, 1.0, 1.0, 0.0, 0.0, 0.6, 1.0, 0.31, 1.0],\n",
              " [-0.33, 0.75, 1.0, 1.0, 1.0, 0.0, 0.6, 1.0, 0.25, 1.0],\n",
              " [-0.33, 0.75, 1.0, 1.0, 1.0, 1.0, 0.8, 1.0, 0.25, 1.0],\n",
              " [-0.33, 0.83, 1.0, 1.0, 1.0, 0.0, 1.0, -1.0, 0.31, 1.0],\n",
              " [-0.33, 0.81, 1.0, 1.0, 1.0, 0.0, 1.0, 1.0, 0.38, 1.0],\n",
              " [-0.33, 0.81, 1.0, 1.0, 1.0, 1.0, 0.8, -1.0, 0.38, 1.0],\n",
              " [0.33, 0.78, 1.0, 0.0, 0.0, 0.0, 1.0, 1.0, 0.06, 1.0],\n",
              " [0.33, 0.75, 1.0, 1.0, 0.0, 0.0, 0.8, -1.0, 0.38, 1.0],\n",
              " [0.33, 0.75, 1.0, 0.0, 1.0, 0.0, 0.8, -1.0, 0.44, 0.0],\n",
              " [1.0, 0.58, 1.0, 0.0, 0.0, 0.0, 0.6, 1.0, 0.5, 1.0],\n",
              " [-1.0, 0.67, 1.0, 0.0, 0.0, 0.0, 1.0, -1.0, 0.5, 1.0],\n",
              " [-1.0, 0.61, 1.0, 0.0, 0.0, 0.0, 0.8, 0.0, 0.5, 1.0],\n",
              " [-1.0, 0.67, 1.0, 1.0, 1.0, 0.0, 1.0, -1.0, 0.31, 1.0],\n",
              " [-1.0, 0.64, 1.0, 0.0, 1.0, 0.0, 1.0, 0.0, 0.19, 1.0],\n",
              " [-1.0, 0.69, 0.0, 1.0, 1.0, 0.0, 0.6, -1.0, 0.19, 1.0]]"
            ]
          },
          "metadata": {},
          "execution_count": 16
        }
      ],
      "source": [
        "teste"
      ]
    },
    {
      "cell_type": "code",
      "source": [
        "# Determinando o k (número de pontos que serão utilizados para a determinação da classe)\n",
        "# Aplicando a função e calculando o indice de acerto (acurácia)"
      ],
      "metadata": {
        "id": "vFCR0tIKlbsg"
      },
      "execution_count": 21,
      "outputs": []
    },
    {
      "cell_type": "code",
      "execution_count": 22,
      "metadata": {
        "colab": {
          "base_uri": "https://localhost:8080/"
        },
        "id": "nEJZpN0qa8F8",
        "outputId": "9b0291c1-6e56-4e7f-c85d-8fefe9c4c387"
      },
      "outputs": [
        {
          "output_type": "stream",
          "name": "stdout",
          "text": [
            "Total de treinamento:  50\n",
            "Total de teste:  50\n",
            "Total de acertos:  47\n",
            "Porcentagem de acerto:  94.0 %\n"
          ]
        }
      ],
      "source": [
        "acertos = 0\n",
        "k=13\n",
        "\n",
        "for amostra in teste:\n",
        "    classe = knn(treinamento, amostra, k)\n",
        "    if classe == amostra[-1]:\n",
        "        acertos += 1\n",
        "\n",
        "print(\"Total de treinamento: \", len(treinamento))\n",
        "print(\"Total de teste: \", len(teste))\n",
        "print(\"Total de acertos: \", acertos)\n",
        "print(\"Porcentagem de acerto: \", 100*acertos/len(teste), \"%\")"
      ]
    },
    {
      "cell_type": "code",
      "execution_count": 17,
      "metadata": {
        "id": "6D3M7JF-a8F8"
      },
      "outputs": [],
      "source": [
        ""
      ]
    }
  ],
  "metadata": {
    "kernelspec": {
      "display_name": "Python 3 (ipykernel)",
      "language": "python",
      "name": "python3"
    },
    "language_info": {
      "codemirror_mode": {
        "name": "ipython",
        "version": 3
      },
      "file_extension": ".py",
      "mimetype": "text/x-python",
      "name": "python",
      "nbconvert_exporter": "python",
      "pygments_lexer": "ipython3",
      "version": "3.10.2"
    },
    "colab": {
      "name": "KNN_passo_a_passo.ipynb",
      "provenance": []
    }
  },
  "nbformat": 4,
  "nbformat_minor": 0
}